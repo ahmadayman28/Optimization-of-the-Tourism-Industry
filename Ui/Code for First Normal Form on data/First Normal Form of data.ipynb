{
 "cells": [
  {
   "cell_type": "code",
   "execution_count": 4,
   "id": "d9ca5669",
   "metadata": {},
   "outputs": [
    {
     "name": "stdout",
     "output_type": "stream",
     "text": [
      "The expanded data has been saved to 'D:\\expanded_tour_packages.xlsx'.\n"
     ]
    }
   ],
   "source": [
    "import pandas as pd\n",
    "\n",
    "# Step 1: Read data from Excel file\n",
    "excel_file = 'D:\\\\Dataset.xlsx'  # Update with your Excel file path\n",
    "df = pd.read_excel(excel_file)\n",
    "\n",
    "# Step 2: Define the function to expand the DataFrame based on seasons\n",
    "def expand_seasons(df):\n",
    "    all_seasons = ['Winter', 'Spring', 'Summer', 'Autumn']\n",
    "    expanded_rows = []\n",
    "    \n",
    "    for _, row in df.iterrows():\n",
    "        package_name = row['Tour Name']\n",
    "        seasons = row['Season']\n",
    "        \n",
    "        if seasons == 'All Seasons':\n",
    "            for season in all_seasons:\n",
    "                expanded_rows.append({'Tour Name': package_name, 'Season': season})\n",
    "        else:\n",
    "            specific_seasons = [s.strip() for s in seasons.split(',')]\n",
    "            for season in specific_seasons:\n",
    "                expanded_rows.append({'Tour Name': package_name, 'Season': season})\n",
    "    \n",
    "    expanded_df = pd.DataFrame(expanded_rows)\n",
    "    return expanded_df\n",
    "\n",
    "# Step 3: Apply the function to expand seasons\n",
    "expanded_df = expand_seasons(df)\n",
    "\n",
    "# Step 4: Save the expanded DataFrame to a new Excel file\n",
    "expanded_excel_file = 'D:\\\\expanded_tour_packages.xlsx'\n",
    "expanded_df.to_excel(expanded_excel_file, index=False)\n",
    "\n",
    "print(f\"The expanded data has been saved to '{expanded_excel_file}'.\")"
   ]
  },
  {
   "cell_type": "code",
   "execution_count": null,
   "id": "c3e9c120",
   "metadata": {},
   "outputs": [],
   "source": []
  }
 ],
 "metadata": {
  "kernelspec": {
   "display_name": "Python 3 (ipykernel)",
   "language": "python",
   "name": "python3"
  },
  "language_info": {
   "codemirror_mode": {
    "name": "ipython",
    "version": 3
   },
   "file_extension": ".py",
   "mimetype": "text/x-python",
   "name": "python",
   "nbconvert_exporter": "python",
   "pygments_lexer": "ipython3",
   "version": "3.9.13"
  }
 },
 "nbformat": 4,
 "nbformat_minor": 5
}
