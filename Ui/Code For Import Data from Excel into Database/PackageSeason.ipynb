{
 "cells": [
  {
   "cell_type": "code",
   "execution_count": 9,
   "id": "d53d6ee6",
   "metadata": {},
   "outputs": [
    {
     "name": "stdout",
     "output_type": "stream",
     "text": [
      "The data has been saved to the 'PackageSeason' table.\n"
     ]
    }
   ],
   "source": [
    "import pandas as pd\n",
    "from sqlalchemy import create_engine, text\n",
    "\n",
    "# Load the Excel file\n",
    "df = pd.read_excel('D:\\\\PackageSeason.xlsx', sheet_name='Sheet1')\n",
    "\n",
    "# Create a connection to the database\n",
    "server = 'USER'\n",
    "database = 'GPTourism'\n",
    "driver = 'ODBC Driver 17 for SQL Server'\n",
    "connection_string = f'mssql+pyodbc://@{server}/{database}?driver={driver}'\n",
    "\n",
    "engine = create_engine(connection_string)\n",
    "\n",
    "# Step 1: Retrieve existing PackageSeasonId values from the PackageSeason table to avoid duplicates\n",
    "with engine.connect() as connection:\n",
    "    existing_package_season_ids = pd.read_sql('SELECT PackageSeasonId FROM PackageSeason', connection)['PackageSeasonId'].tolist()\n",
    "\n",
    "# Step 2: Filter the DataFrame to exclude rows with existing PackageSeasonId values\n",
    "df_filtered = df[~df['PackageSeasonId'].isin(existing_package_season_ids)]\n",
    "\n",
    "# Step 3: Insert the filtered data into the PackageSeason table\n",
    "with engine.connect() as connection:\n",
    "    # Enable IDENTITY_INSERT\n",
    "    connection.execute(text('SET IDENTITY_INSERT PackageSeason ON'))\n",
    "    \n",
    "    # Write the filtered data to the PackageSeason table\n",
    "    df_filtered.to_sql('PackageSeason', con=connection, if_exists='append', index=False)\n",
    "    \n",
    "    # Disable IDENTITY_INSERT\n",
    "    connection.execute(text('SET IDENTITY_INSERT PackageSeason OFF'))\n",
    "\n",
    "print(\"The data has been saved to the 'PackageSeason' table.\")"
   ]
  },
  {
   "cell_type": "code",
   "execution_count": null,
   "id": "1654928e",
   "metadata": {},
   "outputs": [],
   "source": []
  }
 ],
 "metadata": {
  "kernelspec": {
   "display_name": "Python 3 (ipykernel)",
   "language": "python",
   "name": "python3"
  },
  "language_info": {
   "codemirror_mode": {
    "name": "ipython",
    "version": 3
   },
   "file_extension": ".py",
   "mimetype": "text/x-python",
   "name": "python",
   "nbconvert_exporter": "python",
   "pygments_lexer": "ipython3",
   "version": "3.9.13"
  }
 },
 "nbformat": 4,
 "nbformat_minor": 5
}
