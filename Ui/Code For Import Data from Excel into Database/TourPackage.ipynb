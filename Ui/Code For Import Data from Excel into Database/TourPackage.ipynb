{
 "cells": [
  {
   "cell_type": "code",
   "execution_count": 4,
   "id": "41a620e9",
   "metadata": {},
   "outputs": [
    {
     "name": "stdout",
     "output_type": "stream",
     "text": [
      "The data has been saved to the 'TourPackage' table.\n"
     ]
    }
   ],
   "source": [
    "import pandas as pd\n",
    "from sqlalchemy import create_engine, text\n",
    "\n",
    "# Load the Excel file\n",
    "df = pd.read_excel('D:\\\\Graduation Project\\\\Final GP\\\\Ui\\\\Design\\\\Excel Data\\\\TourPackage.xlsx', sheet_name='Sheet1')\n",
    "\n",
    "# Create a connection to the database\n",
    "server = 'USER'\n",
    "database = 'GPTourism'\n",
    "driver = 'ODBC Driver 17 for SQL Server'\n",
    "connection_string = f'mssql+pyodbc://{server}/{database}?driver={driver}'\n",
    "\n",
    "engine = create_engine(connection_string)\n",
    "\n",
    "# Step 1: Retrieve existing PackageId values from the TourPackage table\n",
    "with engine.connect() as connection:\n",
    "    existing_package_ids = pd.read_sql('SELECT PackageId FROM TourPackage', connection)['PackageId'].tolist()\n",
    "\n",
    "# Step 2: Filter the DataFrame to include only rows with unique PackageId values\n",
    "df_filtered = df[~df['PackageId'].isin(existing_package_ids)]\n",
    "\n",
    "# Ensure valid AdminId values by querying existing AdminId values from the Admin table\n",
    "with engine.connect() as connection:\n",
    "    existing_admin_ids = pd.read_sql('SELECT AdminId FROM Admin', connection)['AdminId'].tolist()\n",
    "\n",
    "# Filter the DataFrame to include only rows with valid AdminId values\n",
    "df_filtered = df_filtered[df_filtered['AdminId'].isin(existing_admin_ids)]\n",
    "\n",
    "# Step 3: Insert the filtered data into the database table\n",
    "\n",
    "# Enable IDENTITY_INSERT if needed\n",
    "with engine.connect() as connection:\n",
    "    connection.execute(text('SET IDENTITY_INSERT TourPackage ON'))\n",
    "\n",
    "# Write the filtered data to the database table\n",
    "df_filtered.to_sql('TourPackage', con=engine, if_exists='append', index=False)\n",
    "\n",
    "# Disable IDENTITY_INSERT if needed\n",
    "with engine.connect() as connection:\n",
    "    connection.execute(text('SET IDENTITY_INSERT TourPackage OFF'))\n",
    "    \n",
    "print(\"The data has been saved to the 'TourPackage' table.\")"
   ]
  },
  {
   "cell_type": "code",
   "execution_count": null,
   "id": "dc24b4e0",
   "metadata": {},
   "outputs": [],
   "source": []
  }
 ],
 "metadata": {
  "kernelspec": {
   "display_name": "Python 3 (ipykernel)",
   "language": "python",
   "name": "python3"
  },
  "language_info": {
   "codemirror_mode": {
    "name": "ipython",
    "version": 3
   },
   "file_extension": ".py",
   "mimetype": "text/x-python",
   "name": "python",
   "nbconvert_exporter": "python",
   "pygments_lexer": "ipython3",
   "version": "3.9.13"
  }
 },
 "nbformat": 4,
 "nbformat_minor": 5
}
