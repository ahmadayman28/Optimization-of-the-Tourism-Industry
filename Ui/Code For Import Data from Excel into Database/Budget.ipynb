{
 "cells": [
  {
   "cell_type": "code",
   "execution_count": 13,
   "id": "761f1191",
   "metadata": {},
   "outputs": [
    {
     "name": "stdout",
     "output_type": "stream",
     "text": [
      "The data has been saved to the 'Budget' table.\n"
     ]
    }
   ],
   "source": [
    "import pandas as pd\n",
    "from sqlalchemy import create_engine, text\n",
    "\n",
    "# Load the Excel file\n",
    "df = pd.read_excel('D:\\\\Budget.xlsx', sheet_name='Sheet1')\n",
    "\n",
    "# Create a connection to the database\n",
    "server = 'USER'\n",
    "database = 'GPTourism'\n",
    "driver = 'ODBC Driver 17 for SQL Server'\n",
    "connection_string = f'mssql+pyodbc://@{server}/{database}?driver={driver}'\n",
    "\n",
    "engine = create_engine(connection_string)\n",
    "\n",
    "# Step 1: Retrieve existing ResourceId values from the Resource table to avoid duplicates\n",
    "with engine.connect() as connection:\n",
    "    existing_resource_ids = pd.read_sql('SELECT BudgetId FROM Budget', connection)['BudgetId'].tolist()\n",
    "\n",
    "# Step 2: Filter the DataFrame to exclude rows with existing ResourceId values\n",
    "df_filtered = df[~df['BudgetId'].isin(existing_resource_ids)]\n",
    "\n",
    "# Ensure valid AdminId values by querying existing AdminId values from the Admin table\n",
    "with engine.connect() as connection:\n",
    "    existing_admin_ids = pd.read_sql('SELECT AdminId FROM Admin', connection)['AdminId'].tolist()\n",
    "\n",
    "# Filter the DataFrame to include only rows with valid AdminId values\n",
    "df_filtered = df_filtered[df_filtered['AdminId'].isin(existing_admin_ids)]\n",
    "\n",
    "# Step 3: Insert the filtered data into the Resource table\n",
    "with engine.connect() as connection:\n",
    "    # Enable IDENTITY_INSERT\n",
    "    connection.execute(text('SET IDENTITY_INSERT Budget ON'))\n",
    "    \n",
    "    # Write the filtered data to the Resource table\n",
    "    df_filtered.to_sql('Budget', con=connection, if_exists='append', index=False)\n",
    "    \n",
    "    # Disable IDENTITY_INSERT\n",
    "    connection.execute(text('SET IDENTITY_INSERT Budget OFF'))\n",
    "\n",
    "print(\"The data has been saved to the 'Budget' table.\")"
   ]
  },
  {
   "cell_type": "code",
   "execution_count": null,
   "id": "92c1143c",
   "metadata": {},
   "outputs": [],
   "source": []
  }
 ],
 "metadata": {
  "kernelspec": {
   "display_name": "Python 3 (ipykernel)",
   "language": "python",
   "name": "python3"
  },
  "language_info": {
   "codemirror_mode": {
    "name": "ipython",
    "version": 3
   },
   "file_extension": ".py",
   "mimetype": "text/x-python",
   "name": "python",
   "nbconvert_exporter": "python",
   "pygments_lexer": "ipython3",
   "version": "3.9.13"
  }
 },
 "nbformat": 4,
 "nbformat_minor": 5
}
